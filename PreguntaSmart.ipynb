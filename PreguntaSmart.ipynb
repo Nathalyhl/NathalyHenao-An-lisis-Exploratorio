{
 "cells": [
  {
   "cell_type": "code",
   "execution_count": null,
   "metadata": {},
   "outputs": [],
   "source": [
    "\"\"\"\n",
    "Créditos Parra es una distribuidora de artículos en el departamento del Amazonas. Actualmente, la empresa está iniciando \n",
    "una transición hacia la analítica de datos para mejorar el control y la eficiencia en sus procesos. Uno de los principales \n",
    "problemas identificados es el alto porcentaje de cartera vencida, que promedia el 46%. Este problema puede ser abordado \n",
    "mediante técnicas de ciencia de datos e inteligencia artificial (IA), que permitirán organizar la información, descubrir \n",
    "patrones, visualizar datos y predecir riesgos y oportunidades, facilitando la toma de decisiones y la automatización de \n",
    "procesos.\n",
    "\n",
    "¿Cuáles son los clientes que tienen una alta probabilidad de continuar o iniciar con cartera vencida en los meses \n",
    "restantes del 2024?\n",
    "\n",
    "\"\"\""
   ]
  }
 ],
 "metadata": {
  "language_info": {
   "name": "python"
  }
 },
 "nbformat": 4,
 "nbformat_minor": 2
}
